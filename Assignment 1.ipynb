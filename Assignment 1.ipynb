{
 "cells": [
  {
   "cell_type": "markdown",
   "id": "650ef3b6",
   "metadata": {},
   "source": [
    "# Importing all the libraries "
   ]
  },
  {
   "cell_type": "code",
   "execution_count": 1,
   "id": "2cf30578",
   "metadata": {},
   "outputs": [],
   "source": [
    "import tensorflow as tf\n",
    "import numpy as np\n",
    "import matplotlib.pyplot as plt\n",
    "from tensorflow.keras.datasets import mnist\n",
    "import pandas as pd\n",
    "import matplotlib.pyplot as plt"
   ]
  },
  {
   "cell_type": "markdown",
   "id": "09cf73a8",
   "metadata": {},
   "source": [
    "# Importing Dataset"
   ]
  },
  {
   "cell_type": "code",
   "execution_count": 2,
   "id": "e44e70ef",
   "metadata": {},
   "outputs": [],
   "source": [
    "(X_train_full, Y_train_full), (X_test, Y_test) = mnist.load_data()"
   ]
  },
  {
   "cell_type": "markdown",
   "id": "5497040f",
   "metadata": {},
   "source": [
    "## Extracting Data Features "
   ]
  },
  {
   "cell_type": "code",
   "execution_count": 3,
   "id": "89ec5cda",
   "metadata": {},
   "outputs": [
    {
     "name": "stdout",
     "output_type": "stream",
     "text": [
      "Training images : (60000, 28, 28)\n",
      "class names for training images : (60000,)\n",
      "Test images : (10000, 28, 28)\n",
      "class names for testing images : (10000,)\n",
      "data type for training images : uint8\n"
     ]
    }
   ],
   "source": [
    "print(\"Training images :\",X_train_full.shape)\n",
    "print(\"class names for training images :\",Y_train_full.shape)\n",
    "print(\"Test images :\",X_test.shape)\n",
    "print(\"class names for testing images :\",Y_test.shape)\n",
    "print(\"data type for training images :\",X_train_full.dtype)"
   ]
  },
  {
   "cell_type": "code",
   "execution_count": 4,
   "id": "6e732fa4",
   "metadata": {},
   "outputs": [
    {
     "name": "stdout",
     "output_type": "stream",
     "text": [
      "[[  0   0   0   0   0   0   0   0   0   0   0   0   0   0   0   0   0   0\n",
      "    0   0   0   0   0   0   0   0   0   0]\n",
      " [  0   0   0   0   0   0   0   0   0   0   0   0   0   0   0   0   0   0\n",
      "    0   0   0   0   0   0   0   0   0   0]\n",
      " [  0   0   0   0   0   0   0   0   0   0   0   0   0   0   0   0   0   0\n",
      "    0   0   0   0   0   0   0   0   0   0]\n",
      " [  0   0   0   0   0   0   0   0   0   0   0   0   0   0   0   0   0   0\n",
      "    0   0   0   0   0   0   0   0   0   0]\n",
      " [  0   0   0   0   0   0   0   0   0   0   0   0   0   0   0   0   0   0\n",
      "    0   0   0   0   0   0   0   0   0   0]\n",
      " [  0   0   0   0   0   0   0   0   0   0   0   0   3  18  18  18 126 136\n",
      "  175  26 166 255 247 127   0   0   0   0]\n",
      " [  0   0   0   0   0   0   0   0  30  36  94 154 170 253 253 253 253 253\n",
      "  225 172 253 242 195  64   0   0   0   0]\n",
      " [  0   0   0   0   0   0   0  49 238 253 253 253 253 253 253 253 253 251\n",
      "   93  82  82  56  39   0   0   0   0   0]\n",
      " [  0   0   0   0   0   0   0  18 219 253 253 253 253 253 198 182 247 241\n",
      "    0   0   0   0   0   0   0   0   0   0]\n",
      " [  0   0   0   0   0   0   0   0  80 156 107 253 253 205  11   0  43 154\n",
      "    0   0   0   0   0   0   0   0   0   0]\n",
      " [  0   0   0   0   0   0   0   0   0  14   1 154 253  90   0   0   0   0\n",
      "    0   0   0   0   0   0   0   0   0   0]\n",
      " [  0   0   0   0   0   0   0   0   0   0   0 139 253 190   2   0   0   0\n",
      "    0   0   0   0   0   0   0   0   0   0]\n",
      " [  0   0   0   0   0   0   0   0   0   0   0  11 190 253  70   0   0   0\n",
      "    0   0   0   0   0   0   0   0   0   0]\n",
      " [  0   0   0   0   0   0   0   0   0   0   0   0  35 241 225 160 108   1\n",
      "    0   0   0   0   0   0   0   0   0   0]\n",
      " [  0   0   0   0   0   0   0   0   0   0   0   0   0  81 240 253 253 119\n",
      "   25   0   0   0   0   0   0   0   0   0]\n",
      " [  0   0   0   0   0   0   0   0   0   0   0   0   0   0  45 186 253 253\n",
      "  150  27   0   0   0   0   0   0   0   0]\n",
      " [  0   0   0   0   0   0   0   0   0   0   0   0   0   0   0  16  93 252\n",
      "  253 187   0   0   0   0   0   0   0   0]\n",
      " [  0   0   0   0   0   0   0   0   0   0   0   0   0   0   0   0   0 249\n",
      "  253 249  64   0   0   0   0   0   0   0]\n",
      " [  0   0   0   0   0   0   0   0   0   0   0   0   0   0  46 130 183 253\n",
      "  253 207   2   0   0   0   0   0   0   0]\n",
      " [  0   0   0   0   0   0   0   0   0   0   0   0  39 148 229 253 253 253\n",
      "  250 182   0   0   0   0   0   0   0   0]\n",
      " [  0   0   0   0   0   0   0   0   0   0  24 114 221 253 253 253 253 201\n",
      "   78   0   0   0   0   0   0   0   0   0]\n",
      " [  0   0   0   0   0   0   0   0  23  66 213 253 253 253 253 198  81   2\n",
      "    0   0   0   0   0   0   0   0   0   0]\n",
      " [  0   0   0   0   0   0  18 171 219 253 253 253 253 195  80   9   0   0\n",
      "    0   0   0   0   0   0   0   0   0   0]\n",
      " [  0   0   0   0  55 172 226 253 253 253 253 244 133  11   0   0   0   0\n",
      "    0   0   0   0   0   0   0   0   0   0]\n",
      " [  0   0   0   0 136 253 253 253 212 135 132  16   0   0   0   0   0   0\n",
      "    0   0   0   0   0   0   0   0   0   0]\n",
      " [  0   0   0   0   0   0   0   0   0   0   0   0   0   0   0   0   0   0\n",
      "    0   0   0   0   0   0   0   0   0   0]\n",
      " [  0   0   0   0   0   0   0   0   0   0   0   0   0   0   0   0   0   0\n",
      "    0   0   0   0   0   0   0   0   0   0]\n",
      " [  0   0   0   0   0   0   0   0   0   0   0   0   0   0   0   0   0   0\n",
      "    0   0   0   0   0   0   0   0   0   0]]\n"
     ]
    }
   ],
   "source": [
    "print(X_train_full[0])"
   ]
  },
  {
   "cell_type": "markdown",
   "id": "3a12c264",
   "metadata": {},
   "source": [
    "## Lables For the images "
   ]
  },
  {
   "cell_type": "code",
   "execution_count": 5,
   "id": "fb4d6fe7",
   "metadata": {},
   "outputs": [
    {
     "name": "stdout",
     "output_type": "stream",
     "text": [
      "9\n"
     ]
    }
   ],
   "source": [
    "class_names = ['0','1','2','3','4','5','6','7','8','9']\n",
    "print(class_names[-1])"
   ]
  },
  {
   "cell_type": "code",
   "execution_count": 6,
   "id": "e0e1e1d5",
   "metadata": {},
   "outputs": [
    {
     "name": "stdout",
     "output_type": "stream",
     "text": [
      "class number example : 5\n",
      "class name example : 5\n"
     ]
    }
   ],
   "source": [
    "print(\"class number example :\",Y_train_full[0])\n",
    "print(\"class name example :\",class_names[Y_train_full[0]])"
   ]
  },
  {
   "cell_type": "markdown",
   "id": "82e1d1dc",
   "metadata": {},
   "source": [
    "## Example of an image from the Data Set "
   ]
  },
  {
   "cell_type": "code",
   "execution_count": 7,
   "id": "e7487ece",
   "metadata": {},
   "outputs": [
    {
     "name": "stdout",
     "output_type": "stream",
     "text": [
      "class number example : 4\n",
      "class name example : 4\n",
      "0\n"
     ]
    },
    {
     "data": {
      "text/plain": [
       "<matplotlib.image.AxesImage at 0x209c9e131d0>"
      ]
     },
     "execution_count": 7,
     "metadata": {},
     "output_type": "execute_result"
    },
    {
     "data": {
      "image/png": "[encoded data removed]",
      "text/plain": [
       "<Figure size 640x480 with 1 Axes>"
      ]
     },
     "metadata": {},
     "output_type": "display_data"
    }
   ],
   "source": [
    "print(\"class number example :\",Y_train_full[2])\n",
    "print(\"class name example :\",class_names[Y_train_full[2]])\n",
    "print(X_train_full[2][20][20])\n",
    "plt.imshow(X_train_full[2])"
   ]
  },
  {
   "cell_type": "markdown",
   "id": "72146279",
   "metadata": {},
   "source": [
    "# Standardisation of the images "
   ]
  },
  {
   "cell_type": "code",
   "execution_count": 8,
   "id": "7c1a1ee6",
   "metadata": {},
   "outputs": [
    {
     "name": "stdout",
     "output_type": "stream",
     "text": [
      "max: 255\n",
      "min: 0\n"
     ]
    }
   ],
   "source": [
    "print(\"max:\",X_train_full[0].max())\n",
    "print(\"min:\",X_train_full[0].min())"
   ]
  },
  {
   "cell_type": "code",
   "execution_count": 9,
   "id": "008b4085",
   "metadata": {},
   "outputs": [],
   "source": [
    "x_valid,x_train = X_train_full[:5000] / 255.0, X_train_full[5000:] / 255.0\n",
    "y_valid,y_train = Y_train_full[:5000], Y_train_full[5000:]\n",
    "X_test = X_test / 255.0"
   ]
  },
  {
   "cell_type": "code",
   "execution_count": 10,
   "id": "1b44a540",
   "metadata": {},
   "outputs": [
    {
     "name": "stdout",
     "output_type": "stream",
     "text": [
      "max: 0.996078431372549\n",
      "min: 0.0\n"
     ]
    }
   ],
   "source": [
    "print(\"max:\",x_train[0].max())\n",
    "print(\"min:\",x_train[0].min())"
   ]
  },
  {
   "cell_type": "code",
   "execution_count": 11,
   "id": "5a85d375",
   "metadata": {},
   "outputs": [
    {
     "name": "stdout",
     "output_type": "stream",
     "text": [
      "training dataset: (55000, 28, 28)\n",
      "validating dataset: (5000, 28, 28)\n",
      "Testing Dataset: (10000, 28, 28)\n"
     ]
    }
   ],
   "source": [
    "print(\"training dataset:\",x_train.shape)\n",
    "print(\"validating dataset:\",x_valid.shape)\n",
    "print(\"Testing Dataset:\",X_test.shape)"
   ]
  },
  {
   "cell_type": "code",
   "execution_count": 12,
   "id": "a61cbb8c",
   "metadata": {},
   "outputs": [
    {
     "data": {
      "image/png": "[encoded data removed]",
      "text/plain": [
       "<Figure size 1000x1000 with 25 Axes>"
      ]
     },
     "metadata": {},
     "output_type": "display_data"
    }
   ],
   "source": [
    "plt.figure(figsize=(10,10))\n",
    "for i in range(25):\n",
    "    plt.subplot(5,5,i+1)\n",
    "    plt.xticks([])\n",
    "    plt.yticks([])\n",
    "    plt.grid(False)\n",
    "    plt.imshow(X_train_full[i], cmap=plt.cm.binary)\n",
    "    plt.xlabel(class_names[Y_train_full[i]])\n",
    "plt.show()"
   ]
  },
  {
   "cell_type": "markdown",
   "id": "6df7af18",
   "metadata": {},
   "source": [
    "# Building model "
   ]
  },
  {
   "cell_type": "code",
   "execution_count": 14,
   "id": "e79b101c",
   "metadata": {},
   "outputs": [],
   "source": [
    "model = tf.keras.Sequential([\n",
    "    tf.keras.layers.Flatten(input_shape=(28, 28)),# Input layer, assuming images are 28x28 pixels\n",
    "    tf.keras.layers.BatchNormalization(),\n",
    "    tf.keras.layers.Dense(128, activation='relu'),\n",
    "    tf.keras.layers.BatchNormalization(),# Hidden layer with 128 neurons and ReLU activation \n",
    "    tf.keras.layers.Dense(64, activation='relu'),# Hidden layer with 64 neurons and ReLU activation\n",
    "    tf.keras.layers.BatchNormalization(),\n",
    "    tf.keras.layers.Dense(10,activation='softmax')# Output layer with 10 neurons (assuming 10 classes) and softmax activation\n",
    "])"
   ]
  },
  {
   "cell_type": "code",
   "execution_count": 15,
   "id": "6896054b",
   "metadata": {},
   "outputs": [
    {
     "name": "stdout",
     "output_type": "stream",
     "text": [
      "Model: \"sequential\"\n",
      "_________________________________________________________________\n",
      " Layer (type)                Output Shape              Param #   \n",
      "=================================================================\n",
      " flatten (Flatten)           (None, 784)               0         \n",
      "                                                                 \n",
      " batch_normalization (Batch  (None, 784)               3136      \n",
      " Normalization)                                                  \n",
      "                                                                 \n",
      " dense (Dense)               (None, 128)               100480    \n",
      "                                                                 \n",
      " batch_normalization_1 (Bat  (None, 128)               512       \n",
      " chNormalization)                                                \n",
      "                                                                 \n",
      " dense_1 (Dense)             (None, 64)                8256      \n",
      "                                                                 \n",
      " batch_normalization_2 (Bat  (None, 64)                256       \n",
      " chNormalization)                                                \n",
      "                                                                 \n",
      " dense_2 (Dense)             (None, 10)                650       \n",
      "                                                                 \n",
      "=================================================================\n",
      "Total params: 113290 (442.54 KB)\n",
      "Trainable params: 111338 (434.91 KB)\n",
      "Non-trainable params: 1952 (7.62 KB)\n",
      "_________________________________________________________________\n"
     ]
    }
   ],
   "source": [
    "model.summary()"
   ]
  },
  {
   "cell_type": "markdown",
   "id": "92ea0e6e",
   "metadata": {},
   "source": [
    "# Training and testing the model "
   ]
  },
  {
   "cell_type": "code",
   "execution_count": 16,
   "id": "e0dca4a1",
   "metadata": {},
   "outputs": [],
   "source": [
    "model.compile(optimizer='sgd',  # Optimizer\n",
    "              loss='sparse_categorical_crossentropy',  # Loss function for classification\n",
    "              metrics=['accuracy'])  # Evaluation metric(s)"
   ]
  },
  {
   "cell_type": "code",
   "execution_count": 17,
   "id": "b56b2188",
   "metadata": {},
   "outputs": [
    {
     "name": "stdout",
     "output_type": "stream",
     "text": [
      "Epoch 1/10\n",
      "1719/1719 [==============================] - 4s 2ms/step - loss: 0.4328 - accuracy: 0.8721 - val_loss: 0.2216 - val_accuracy: 0.9344\n",
      "Epoch 2/10\n",
      "1719/1719 [==============================] - 3s 2ms/step - loss: 0.2233 - accuracy: 0.9341 - val_loss: 0.1715 - val_accuracy: 0.9486\n",
      "Epoch 3/10\n",
      "1719/1719 [==============================] - 3s 2ms/step - loss: 0.1734 - accuracy: 0.9491 - val_loss: 0.1494 - val_accuracy: 0.9554\n",
      "Epoch 4/10\n",
      "1719/1719 [==============================] - 3s 2ms/step - loss: 0.1442 - accuracy: 0.9569 - val_loss: 0.1316 - val_accuracy: 0.9610\n",
      "Epoch 5/10\n",
      "1719/1719 [==============================] - 3s 2ms/step - loss: 0.1253 - accuracy: 0.9627 - val_loss: 0.1246 - val_accuracy: 0.9630\n",
      "Epoch 6/10\n",
      "1719/1719 [==============================] - 3s 2ms/step - loss: 0.1100 - accuracy: 0.9679 - val_loss: 0.1188 - val_accuracy: 0.9634\n",
      "Epoch 7/10\n",
      "1719/1719 [==============================] - 3s 2ms/step - loss: 0.0995 - accuracy: 0.9704 - val_loss: 0.1153 - val_accuracy: 0.9662\n",
      "Epoch 8/10\n",
      "1719/1719 [==============================] - 3s 2ms/step - loss: 0.0901 - accuracy: 0.9728 - val_loss: 0.1082 - val_accuracy: 0.9682\n",
      "Epoch 9/10\n",
      "1719/1719 [==============================] - 3s 2ms/step - loss: 0.0815 - accuracy: 0.9756 - val_loss: 0.1086 - val_accuracy: 0.9686\n",
      "Epoch 10/10\n",
      "1719/1719 [==============================] - 3s 2ms/step - loss: 0.0737 - accuracy: 0.9772 - val_loss: 0.1049 - val_accuracy: 0.9698\n"
     ]
    }
   ],
   "source": [
    "history = model.fit(x_train, y_train, epochs=10,validation_data=(x_valid,y_valid))"
   ]
  },
  {
   "cell_type": "code",
   "execution_count": 18,
   "id": "81afd81e",
   "metadata": {},
   "outputs": [
    {
     "name": "stdout",
     "output_type": "stream",
     "text": [
      "Training Loss  0.07371310889720917\n",
      "Training Accuracy  0.9771999716758728\n",
      "Validation Loss  0.10486762970685959\n",
      "Validation Accuracy  0.9697999954223633\n"
     ]
    }
   ],
   "source": [
    "print(\"Training Loss \",history.history['loss'][-1])\n",
    "print(\"Training Accuracy \",history.history['accuracy'][-1])\n",
    "print(\"Validation Loss \",history.history['val_loss'][-1])\n",
    "print(\"Validation Accuracy \",history.history['val_accuracy'][-1])"
   ]
  },
  {
   "cell_type": "code",
   "execution_count": 19,
   "id": "98995adb",
   "metadata": {},
   "outputs": [
    {
     "data": {
      "image/png": "[encoded data removed]",
      "text/plain": [
       "<Figure size 800x500 with 1 Axes>"
      ]
     },
     "metadata": {},
     "output_type": "display_data"
    }
   ],
   "source": [
    "pd.DataFrame(history.history).plot(figsize=(8,5))\n",
    "plt.grid(True)\n",
    "plt.gca().set_ylim(0,1)\n",
    "plt.show()"
   ]
  },
  {
   "cell_type": "code",
   "execution_count": 20,
   "id": "e2dc8e86",
   "metadata": {},
   "outputs": [
    {
     "name": "stdout",
     "output_type": "stream",
     "text": [
      "313/313 [==============================] - 0s 939us/step - loss: 0.1048 - accuracy: 0.9688\n",
      "\n",
      " Test accuracy: 0.9688000082969666\n",
      "\n",
      " Test test_loss: 0.10483040660619736\n"
     ]
    }
   ],
   "source": [
    "test_loss,test_acc = model.evaluate(X_test,Y_test)\n",
    "print('\\n Test accuracy:',test_acc)\n",
    "print('\\n Test test_loss:',test_loss)"
   ]
  },
  {
   "cell_type": "markdown",
   "id": "2f436f03",
   "metadata": {},
   "source": [
    "# Using the model for prediction "
   ]
  },
  {
   "cell_type": "code",
   "execution_count": 21,
   "id": "88ab9018",
   "metadata": {},
   "outputs": [],
   "source": [
    "probability = tf.keras.Sequential([model,tf.keras.layers.Softmax()])"
   ]
  },
  {
   "cell_type": "code",
   "execution_count": 22,
   "id": "ff234e26",
   "metadata": {},
   "outputs": [
    {
     "name": "stdout",
     "output_type": "stream",
     "text": [
      "313/313 [==============================] - 0s 960us/step\n",
      "(10000, 10)\n"
     ]
    }
   ],
   "source": [
    "prediction = probability.predict(X_test)\n",
    "print(prediction.shape)"
   ]
  },
  {
   "cell_type": "code",
   "execution_count": 23,
   "id": "7c6f4fe0",
   "metadata": {},
   "outputs": [
    {
     "data": {
      "text/plain": [
       "10"
      ]
     },
     "execution_count": 23,
     "metadata": {},
     "output_type": "execute_result"
    }
   ],
   "source": [
    "values=np.array([1,2,3,4,5,65,3,4,5,6,200,2])\n",
    "np.argmax(values)"
   ]
  },
  {
   "cell_type": "code",
   "execution_count": 24,
   "id": "d97554f0",
   "metadata": {},
   "outputs": [
    {
     "name": "stdout",
     "output_type": "stream",
     "text": [
      "[0.08535028 0.08534683 0.08537198 0.08536254 0.08534925 0.0853506\n",
      " 0.08534639 0.23181859 0.08534681 0.08535676]\n"
     ]
    },
    {
     "data": {
      "text/plain": [
       "7"
      ]
     },
     "execution_count": 24,
     "metadata": {},
     "output_type": "execute_result"
    }
   ],
   "source": [
    "prediction[0]\n",
    "print(prediction[0])\n",
    "np.argmax(prediction[0])"
   ]
  },
  {
   "cell_type": "code",
   "execution_count": 25,
   "id": "89aaf5c8",
   "metadata": {},
   "outputs": [
    {
     "data": {
      "text/plain": [
       "'7'"
      ]
     },
     "execution_count": 25,
     "metadata": {},
     "output_type": "execute_result"
    }
   ],
   "source": [
    "class_names[Y_test[0]]"
   ]
  },
  {
   "cell_type": "code",
   "execution_count": 26,
   "id": "553cf523",
   "metadata": {},
   "outputs": [
    {
     "data": {
      "text/plain": [
       "'7'"
      ]
     },
     "execution_count": 26,
     "metadata": {},
     "output_type": "execute_result"
    }
   ],
   "source": [
    "class_names[Y_test[0]]"
   ]
  },
  {
   "cell_type": "code",
   "execution_count": 27,
   "id": "4561892e",
   "metadata": {},
   "outputs": [
    {
     "data": {
      "image/png": "[encoded data removed]",
      "text/plain": [
       "<Figure size 1500x500 with 10 Axes>"
      ]
     },
     "metadata": {},
     "output_type": "display_data"
    }
   ],
   "source": [
    "# Display a few test images along with their predicted classes\n",
    "num_images_to_display = 10\n",
    "\n",
    "plt.figure(figsize=(15, 5))\n",
    "plt.suptitle('Sample Test Images with Predicted Classes', fontsize=16)\n",
    "\n",
    "for i in range(num_images_to_display):\n",
    "    plt.subplot(1, num_images_to_display, i + 1)\n",
    "    plt.imshow(X_test[i].reshape(28, 28), cmap='viridis')\n",
    "    plt.title(f'Predicted: {class_names[Y_test[i]]}')\n",
    "    plt.axis('off')  # Turn off axis labels and ticks\n",
    "\n",
    "plt.tight_layout()\n",
    "plt.show()"
   ]
  },
  {
   "cell_type": "code",
   "execution_count": null,
   "id": "3bc0f91b",
   "metadata": {},
   "outputs": [],
   "source": []
  }
 ],
 "metadata": {
  "kernelspec": {
   "display_name": "Python 3 (ipykernel)",
   "language": "python",
   "name": "python3"
  },
  "language_info": {
   "codemirror_mode": {
    "name": "ipython",
    "version": 3
   },
   "file_extension": ".py",
   "mimetype": "text/x-python",
   "name": "python",
   "nbconvert_exporter": "python",
   "pygments_lexer": "ipython3",
   "version": "3.11.5"
  }
 },
 "nbformat": 4,
 "nbformat_minor": 5
}
